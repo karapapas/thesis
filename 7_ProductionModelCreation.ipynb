{
 "cells": [
  {
   "cell_type": "code",
   "execution_count": 1,
   "metadata": {},
   "outputs": [],
   "source": [
    "# imports\n",
    "import pandas as pd\n",
    "import pickle as pkl\n",
    "from sklearn.preprocessing import OneHotEncoder, KBinsDiscretizer, MinMaxScaler, StandardScaler\n",
    "from sklearn.neighbors import KNeighborsClassifier\n",
    "from sklearn.compose import make_column_transformer\n",
    "from sklearn.pipeline import make_pipeline\n",
    "#\n",
    "from moduleDatabase import DatabaseMethods"
   ]
  },
  {
   "cell_type": "code",
   "execution_count": 2,
   "metadata": {},
   "outputs": [],
   "source": [
    "# class instantiation\n",
    "db = DatabaseMethods()"
   ]
  },
  {
   "cell_type": "code",
   "execution_count": 3,
   "metadata": {},
   "outputs": [],
   "source": [
    "df = db.fetch(\"SELECT * FROM v8\")\n",
    "df = db.separate_target_class(df, \"moca_pre_binary_binned\")"
   ]
  },
  {
   "cell_type": "code",
   "execution_count": 4,
   "metadata": {},
   "outputs": [],
   "source": [
    "features = ['education', 'avg_gr_time_in_gs', 'family_med_history', 'total_gr_in_gs']\n",
    "X = df[features]\n",
    "y = df['target_class']"
   ]
  },
  {
   "cell_type": "code",
   "execution_count": 5,
   "metadata": {},
   "outputs": [],
   "source": [
    "scaler = StandardScaler()\n",
    "discretizer = KBinsDiscretizer(n_bins=6, encode='ordinal', strategy='quantile')\n",
    "\n",
    "# include make_column_transformer in case we use one hot encoding\n",
    "# ct = make_column_transformer(\n",
    "#     (discretizer, ['age','avg_gr_time_win_gr_in_gs', 'avg_gr_time_win_gr_in_gs', 'avg_gr_time_in_gs', \n",
    "#                    'total_win_gr_points_in_gs', 'total_gr_in_gs', 'total_success_rounds_in_session']),\n",
    "#     (scaler, ['age', 'education','laptop_usage', 'smartphone_usage', 'family_med_history', 'exercising', \n",
    "#               'hypertension', 'total_gr_in_gs', 'total_success_rounds_in_session', \n",
    "#               'total_win_gr_points_in_gs', 'avg_gr_time_in_gs', 'avg_gr_time_win_gr_in_gs']),\n",
    "#     remainder='passthrough')\n",
    "\n",
    "\n",
    "# TODO INCLUDE PCA\n",
    "\n",
    "clf = KNeighborsClassifier(n_neighbors=15)"
   ]
  },
  {
   "cell_type": "code",
   "execution_count": 6,
   "metadata": {},
   "outputs": [],
   "source": [
    "pipe = make_pipeline(scaler, discretizer, clf)"
   ]
  },
  {
   "cell_type": "code",
   "execution_count": 7,
   "metadata": {},
   "outputs": [
    {
     "name": "stdout",
     "output_type": "stream",
     "text": [
      "<class 'sklearn.pipeline.Pipeline'>\n"
     ]
    },
    {
     "name": "stderr",
     "output_type": "stream",
     "text": [
      "C:\\Users\\christos\\anaconda3\\lib\\site-packages\\sklearn\\preprocessing\\_discretization.py:202: UserWarning: Bins whose width are too small (i.e., <= 1e-8) in feature 0 are removed. Consider decreasing the number of bins.\n",
      "  'decreasing the number of bins.' % jj)\n",
      "C:\\Users\\christos\\anaconda3\\lib\\site-packages\\sklearn\\preprocessing\\_discretization.py:202: UserWarning: Bins whose width are too small (i.e., <= 1e-8) in feature 2 are removed. Consider decreasing the number of bins.\n",
      "  'decreasing the number of bins.' % jj)\n"
     ]
    }
   ],
   "source": [
    "# train model\n",
    "model = pipe.fit(X, y)\n",
    "\n",
    "# save model for service\n",
    "pathFileName = 'models/model.joblib'\n",
    "pkl.dump(model, open(pathFileName, 'wb'))\n",
    "print(type(model))"
   ]
  },
  {
   "cell_type": "code",
   "execution_count": 8,
   "metadata": {},
   "outputs": [
    {
     "name": "stdout",
     "output_type": "stream",
     "text": [
      "[1]\n"
     ]
    }
   ],
   "source": [
    "# test that the created model can actually make a prediction\n",
    "test = pd.DataFrame({'education':[2], 'avg_gr_time_in_gs':[15], 'family_med_history':[0], 'total_gr_in_gs':[10]})\n",
    "X_new = test[features]\n",
    "print(pipe.predict(X_new))"
   ]
  }
 ],
 "metadata": {
  "kernelspec": {
   "display_name": "Python 3",
   "language": "python",
   "name": "python3"
  },
  "language_info": {
   "codemirror_mode": {
    "name": "ipython",
    "version": 3
   },
   "file_extension": ".py",
   "mimetype": "text/x-python",
   "name": "python",
   "nbconvert_exporter": "python",
   "pygments_lexer": "ipython3",
   "version": "3.7.6"
  }
 },
 "nbformat": 4,
 "nbformat_minor": 4
}
